{
  "nbformat": 4,
  "nbformat_minor": 0,
  "metadata": {
    "colab": {
      "provenance": [],
      "authorship_tag": "ABX9TyPD0LV7rZIhggcn9e0DbtpO",
      "include_colab_link": true
    },
    "kernelspec": {
      "name": "python3",
      "display_name": "Python 3"
    },
    "language_info": {
      "name": "python"
    }
  },
  "cells": [
    {
      "cell_type": "markdown",
      "metadata": {
        "id": "view-in-github",
        "colab_type": "text"
      },
      "source": [
        "<a href=\"https://colab.research.google.com/github/dimitrivlachos/Proto-OS/blob/main/Facial_Expression_CNN.ipynb\" target=\"_parent\"><img src=\"https://colab.research.google.com/assets/colab-badge.svg\" alt=\"Open In Colab\"/></a>"
      ]
    },
    {
      "cell_type": "code",
      "execution_count": null,
      "metadata": {
        "id": "uI8HnybqaaRX"
      },
      "outputs": [],
      "source": [
        "import numpy as np\n",
        "import pandas as pd\n",
        "import os\n",
        "\n",
        "import tensorflow as tf\n",
        "\n",
        "TRAIN_DIR = 'Facial Expression Dataset/train'\n",
        "TEST_DIR = 'Facial Expression Dataset/test'"
      ]
    },
    {
      "cell_type": "code",
      "source": [
        "def load_dataset(directory):\n",
        "  '''Load image path - label pairs and return them in two arrays'''\n",
        "  image_paths = []\n",
        "  labels = []\n",
        "\n",
        "  for label in os.listdir(directory):\n",
        "    for filename in os.listdir(directory+label):\n",
        "      image_path = os.path.join(directory, label, filename)\n",
        "      image_paths.append(image_path)\n",
        "      labels.apprend(label)\n",
        "\n",
        "      print(label, \"completed\")\n",
        "\n",
        "  return image_paths, labels"
      ],
      "metadata": {
        "id": "5MbLcOJEgFt1"
      },
      "execution_count": null,
      "outputs": []
    },
    {
      "cell_type": "code",
      "source": [
        "# Load training dataset and convert into dataframes\n",
        "train = pd.DataFrame()\n",
        "train['image'], train['label'] = load_dataset(TRAIN_DIR)\n",
        "\n",
        "# Shuffle the dataset\n",
        "train = train.sample(frac=1).reset_index(drop=True)\n",
        "train.head()"
      ],
      "metadata": {
        "id": "7BdXgYxhgsB2"
      },
      "execution_count": null,
      "outputs": []
    },
    {
      "cell_type": "code",
      "source": [
        "# Do the same for the test dataset\n",
        "test = pd.DataFrame()\n",
        "test['image'], test['label'] = load_dataset(TEST_DIR)\n",
        "test.head()"
      ],
      "metadata": {
        "id": "EGHygdOGhlPH"
      },
      "execution_count": null,
      "outputs": []
    }
  ]
}