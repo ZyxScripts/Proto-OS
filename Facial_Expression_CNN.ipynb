{
  "cells": [
    {
      "cell_type": "markdown",
      "metadata": {
        "id": "view-in-github",
        "colab_type": "text"
      },
      "source": [
        "<a href=\"https://colab.research.google.com/github/dimitrivlachos/Proto-OS/blob/main/Facial_Expression_CNN.ipynb\" target=\"_parent\"><img src=\"https://colab.research.google.com/assets/colab-badge.svg\" alt=\"Open In Colab\"/></a>"
      ]
    },
    {
      "cell_type": "markdown",
      "metadata": {
        "id": "9ECCIzUo0XzW"
      },
      "source": [
        "Here we mount the drive and get the basic libraries necessary for machine learning"
      ]
    },
    {
      "cell_type": "code",
      "execution_count": 1,
      "metadata": {
        "colab": {
          "base_uri": "https://localhost:8080/"
        },
        "id": "uI8HnybqaaRX",
        "outputId": "c656600c-577a-4318-82f2-b3f3531b4026"
      },
      "outputs": [
        {
          "output_type": "stream",
          "name": "stdout",
          "text": [
            "Drive already mounted at /content/drive; to attempt to forcibly remount, call drive.mount(\"/content/drive\", force_remount=True).\n",
            "tf version: 2.12.0\n"
          ]
        }
      ],
      "source": [
        "from google.colab import drive\n",
        "drive.mount('/content/drive')\n",
        "\n",
        "import numpy as np\n",
        "import os\n",
        "import PIL\n",
        "import PIL.Image\n",
        "import tensorflow as tf\n",
        "\n",
        "print(\"tf version:\", tf.__version__)"
      ]
    },
    {
      "cell_type": "markdown",
      "metadata": {
        "id": "43V0zpoh0hQi"
      },
      "source": [
        "Next we load up our dataset. This data was gotten from kaggle:\n",
        "https://www.kaggle.com/datasets/aadityasinghal/facial-expression-dataset\n",
        "\n",
        "Following https://www.tensorflow.org/tutorials/load_data/images"
      ]
    },
    {
      "cell_type": "markdown",
      "metadata": {
        "id": "uJ5gRLgIBBCZ"
      },
      "source": [
        "# Loading the Dataset"
      ]
    },
    {
      "cell_type": "code",
      "execution_count": 2,
      "metadata": {
        "id": "NzCWRiHOrUfM"
      },
      "outputs": [],
      "source": [
        "import pathlib\n",
        "\n",
        "TRAIN_DIR = 'drive/MyDrive/FacialAnalysisData/train'\n",
        "TEST_DIR = 'drive/MyDrive/FacialAnalysisData/test'\n",
        "\n",
        "TRAIN_PATH = pathlib.Path(TRAIN_DIR)\n",
        "TEST_PATH = pathlib.Path(TEST_DIR)"
      ]
    },
    {
      "cell_type": "code",
      "execution_count": 3,
      "metadata": {
        "colab": {
          "base_uri": "https://localhost:8080/"
        },
        "id": "o3rdtjqUy7yw",
        "outputId": "7da78cf9-379d-448e-d0f9-f7c89ee5c21c"
      },
      "outputs": [
        {
          "output_type": "execute_result",
          "data": {
            "text/plain": [
              "28709"
            ]
          },
          "metadata": {},
          "execution_count": 3
        }
      ],
      "source": [
        "image_count = len(list(TRAIN_PATH.glob('*/*.jpg')))\n",
        "image_count"
      ]
    },
    {
      "cell_type": "code",
      "execution_count": 4,
      "metadata": {
        "colab": {
          "base_uri": "https://localhost:8080/",
          "height": 65
        },
        "id": "HysjSLkt1Ro6",
        "outputId": "c71922ef-f532-40c0-cdbd-3c263337b3b6"
      },
      "outputs": [
        {
          "output_type": "execute_result",
          "data": {
            "text/plain": [
              "<PIL.JpegImagePlugin.JpegImageFile image mode=L size=48x48 at 0x7FE3AF44ECB0>"
            ],
            "image/png": "[encoded data removed]"
          },
          "metadata": {},
          "execution_count": 4
        }
      ],
      "source": [
        "angry = list(TRAIN_PATH.glob('angry/*'))\n",
        "PIL.Image.open(str(angry[0]))"
      ]
    },
    {
      "cell_type": "markdown",
      "metadata": {
        "id": "xhq4qCpD4LT1"
      },
      "source": [
        "Now we create a dataset"
      ]
    },
    {
      "cell_type": "code",
      "execution_count": 23,
      "metadata": {
        "id": "Sb3qy_6g4Nx6"
      },
      "outputs": [],
      "source": [
        "batch_size = 32\n",
        "img_height = 48\n",
        "img_width = 48"
      ]
    },
    {
      "cell_type": "code",
      "execution_count": 6,
      "metadata": {
        "colab": {
          "base_uri": "https://localhost:8080/"
        },
        "id": "GiyBX_0k45pa",
        "outputId": "c632ab89-9792-4a10-edd1-be40ab2a7619"
      },
      "outputs": [
        {
          "output_type": "stream",
          "name": "stdout",
          "text": [
            "Found 28709 files belonging to 7 classes.\n",
            "Using 22968 files for training.\n"
          ]
        }
      ],
      "source": [
        "train_ds = tf.keras.utils.image_dataset_from_directory(\n",
        "  TRAIN_PATH,\n",
        "  validation_split=0.2,\n",
        "  subset=\"training\",\n",
        "  seed=123,\n",
        "  image_size=(img_height, img_width),\n",
        "  batch_size=batch_size)"
      ]
    },
    {
      "cell_type": "code",
      "execution_count": 7,
      "metadata": {
        "colab": {
          "base_uri": "https://localhost:8080/"
        },
        "id": "GCli81QJ46Kj",
        "outputId": "6284dcd8-c76b-4bc1-cd57-00f4f9a9f5f4"
      },
      "outputs": [
        {
          "output_type": "stream",
          "name": "stdout",
          "text": [
            "Found 28709 files belonging to 7 classes.\n",
            "Using 5741 files for validation.\n"
          ]
        }
      ],
      "source": [
        "val_ds = tf.keras.utils.image_dataset_from_directory(\n",
        "  TRAIN_PATH,\n",
        "  validation_split=0.2,\n",
        "  subset=\"validation\",\n",
        "  seed=123,\n",
        "  image_size=(img_height, img_width),\n",
        "  batch_size=batch_size)"
      ]
    },
    {
      "cell_type": "code",
      "execution_count": 8,
      "metadata": {
        "colab": {
          "base_uri": "https://localhost:8080/"
        },
        "id": "JP0GjathAf7t",
        "outputId": "ac3f5fee-fe08-4a1d-c64b-b1b88f2626a7"
      },
      "outputs": [
        {
          "output_type": "stream",
          "name": "stdout",
          "text": [
            "Found 7178 files belonging to 7 classes.\n"
          ]
        }
      ],
      "source": [
        "test_ds = tf.keras.utils.image_dataset_from_directory(\n",
        "  TEST_PATH,\n",
        "  seed=123,\n",
        "  image_size=(img_height, img_width),\n",
        "  batch_size=batch_size)"
      ]
    },
    {
      "cell_type": "code",
      "execution_count": 9,
      "metadata": {
        "colab": {
          "base_uri": "https://localhost:8080/"
        },
        "id": "dTSWLkAq5EUR",
        "outputId": "fd49bb12-f8dc-4c95-f9eb-a2bb1fccff38"
      },
      "outputs": [
        {
          "output_type": "stream",
          "name": "stdout",
          "text": [
            "['angry', 'disgust', 'fear', 'happy', 'neutral', 'sad', 'surprise']\n"
          ]
        }
      ],
      "source": [
        "class_names = train_ds.class_names\n",
        "print(class_names)"
      ]
    },
    {
      "cell_type": "code",
      "execution_count": 10,
      "metadata": {
        "colab": {
          "base_uri": "https://localhost:8080/",
          "height": 829
        },
        "id": "DUEIPVoc5KhQ",
        "outputId": "cf1c3ea0-51b3-44c3-caf1-f7d43b063d9d"
      },
      "outputs": [
        {
          "output_type": "display_data",
          "data": {
            "text/plain": [
              "<Figure size 1000x1000 with 9 Axes>"
            ],
            "image/png": "[encoded data removed]"
          },
          "metadata": {}
        }
      ],
      "source": [
        "import matplotlib.pyplot as plt\n",
        "\n",
        "plt.figure(figsize=(10, 10))\n",
        "for images, labels in train_ds.take(1):\n",
        "  for i in range(9):\n",
        "    ax = plt.subplot(3, 3, i + 1)\n",
        "    plt.imshow(images[i].numpy().astype(\"uint8\"))\n",
        "    plt.title(class_names[labels[i]])\n",
        "    plt.axis(\"off\")"
      ]
    },
    {
      "cell_type": "code",
      "execution_count": 11,
      "metadata": {
        "colab": {
          "base_uri": "https://localhost:8080/"
        },
        "id": "gYJNQ_YQ6zZi",
        "outputId": "ec445479-1f19-48df-b16c-e76f91ccf86a"
      },
      "outputs": [
        {
          "output_type": "stream",
          "name": "stdout",
          "text": [
            "(32, 48, 48, 3)\n",
            "(32,)\n"
          ]
        }
      ],
      "source": [
        "for image_batch, labels_batch in train_ds:\n",
        "  print(image_batch.shape)\n",
        "  print(labels_batch.shape)\n",
        "  break"
      ]
    },
    {
      "cell_type": "markdown",
      "metadata": {
        "id": "PhIm4gue7FI8"
      },
      "source": [
        "Next we will configure the dataset for performance"
      ]
    },
    {
      "cell_type": "code",
      "execution_count": 12,
      "metadata": {
        "id": "FsdknVjcAcsd"
      },
      "outputs": [],
      "source": [
        "AUTOTUNE = tf.data.AUTOTUNE\n",
        "\n",
        "train_ds = train_ds.cache().prefetch(buffer_size=AUTOTUNE)\n",
        "val_ds = val_ds.cache().prefetch(buffer_size=AUTOTUNE)\n",
        "test_ds = test_ds.cache().prefetch(buffer_size=AUTOTUNE)"
      ]
    },
    {
      "cell_type": "markdown",
      "metadata": {
        "id": "tJQMlD5GBIga"
      },
      "source": [
        "# Training initial model\n",
        "\n",
        "With 7 classes, this small model will need to achieve an accuracy of ~14% in order to show statistical power"
      ]
    },
    {
      "cell_type": "markdown",
      "source": [
        "## Test 1 - Keras example model"
      ],
      "metadata": {
        "id": "N0rxVxiTOzGw"
      }
    },
    {
      "cell_type": "code",
      "execution_count": 13,
      "metadata": {
        "id": "Q2zH0PpOBYhP"
      },
      "outputs": [],
      "source": [
        "num_classes = 7\n",
        "\n",
        "model = tf.keras.Sequential([\n",
        "  tf.keras.layers.Rescaling(1./255),                # This layer normalizes the RGB values\n",
        "  tf.keras.layers.Conv2D(32, 3, activation='relu'),\n",
        "  tf.keras.layers.MaxPooling2D(),\n",
        "  tf.keras.layers.Conv2D(32, 3, activation='relu'),\n",
        "  tf.keras.layers.MaxPooling2D(),\n",
        "  tf.keras.layers.Conv2D(32, 3, activation='relu'),\n",
        "  tf.keras.layers.MaxPooling2D(),\n",
        "  tf.keras.layers.Flatten(),\n",
        "  tf.keras.layers.Dense(128, activation='relu'),\n",
        "  tf.keras.layers.Dense(num_classes)\n",
        "])"
      ]
    },
    {
      "cell_type": "code",
      "execution_count": 14,
      "metadata": {
        "id": "gm1aVBFwBlAq"
      },
      "outputs": [],
      "source": [
        "model.compile(\n",
        "  optimizer='adam',\n",
        "  loss=tf.keras.losses.SparseCategoricalCrossentropy(from_logits=True),\n",
        "  metrics=['accuracy'])"
      ]
    },
    {
      "cell_type": "code",
      "execution_count": 15,
      "metadata": {
        "colab": {
          "base_uri": "https://localhost:8080/"
        },
        "id": "H6VV_M8WBmz4",
        "outputId": "6f9492b6-c4c2-4302-f5ce-a73d815e7630"
      },
      "outputs": [
        {
          "output_type": "stream",
          "name": "stdout",
          "text": [
            "Epoch 1/3\n",
            "718/718 [==============================] - 228s 316ms/step - loss: 1.6606 - accuracy: 0.3390 - val_loss: 1.5156 - val_accuracy: 0.4231\n",
            "Epoch 2/3\n",
            "718/718 [==============================] - 9s 12ms/step - loss: 1.4491 - accuracy: 0.4408 - val_loss: 1.3935 - val_accuracy: 0.4602\n",
            "Epoch 3/3\n",
            "718/718 [==============================] - 9s 12ms/step - loss: 1.3368 - accuracy: 0.4870 - val_loss: 1.3361 - val_accuracy: 0.4905\n"
          ]
        },
        {
          "output_type": "execute_result",
          "data": {
            "text/plain": [
              "<keras.callbacks.History at 0x7fe3ac1ab790>"
            ]
          },
          "metadata": {},
          "execution_count": 15
        }
      ],
      "source": [
        "model.fit(\n",
        "  train_ds,\n",
        "  validation_data=val_ds,\n",
        "  epochs=3\n",
        ")"
      ]
    },
    {
      "cell_type": "markdown",
      "source": [
        "Test 2 - Notebook from dataset model"
      ],
      "metadata": {
        "id": "EphlY4huO3B9"
      }
    },
    {
      "cell_type": "code",
      "source": [
        "num_classes = 7\n",
        "\n",
        "model = tf.keras.Sequential([\n",
        "  tf.keras.layers.Rescaling(1./255),                # This layer normalizes the RGB values\n",
        "  tf.keras.layers.Conv2D(128, (3,3), activation='relu'),\n",
        "  tf.keras.layers.MaxPooling2D(pool_size=(2,2)),\n",
        "  tf.keras.layers.Dropout(0.4),\n",
        "  tf.keras.layers.Conv2D(256, (3,3), activation='relu'),\n",
        "  tf.keras.layers.MaxPooling2D(pool_size=(2,2)),\n",
        "  tf.keras.layers.Dropout(0.4),\n",
        "  tf.keras.layers.Conv2D(512, (3,3), activation='relu'),\n",
        "  tf.keras.layers.MaxPooling2D(pool_size=(2,2)),\n",
        "  tf.keras.layers.Dropout(0.4),\n",
        "  tf.keras.layers.Flatten(),\n",
        "  tf.keras.layers.Dense(512, activation='relu'),\n",
        "  tf.keras.layers.Dropout(0.4),\n",
        "  tf.keras.layers.Dense(256, activation='relu'),\n",
        "  tf.keras.layers.Dropout(0.3),\n",
        "  tf.keras.layers.Dense(num_classes, activation='softmax')\n",
        "])"
      ],
      "metadata": {
        "id": "278WaxoHO51_"
      },
      "execution_count": 19,
      "outputs": []
    },
    {
      "cell_type": "code",
      "source": [
        "model.compile(\n",
        "  optimizer='adam',\n",
        "  loss=tf.keras.losses.SparseCategoricalCrossentropy(from_logits=True),\n",
        "  metrics=['accuracy'])"
      ],
      "metadata": {
        "id": "QMROfVttPyjz"
      },
      "execution_count": 20,
      "outputs": []
    },
    {
      "cell_type": "code",
      "source": [
        "model.fit(\n",
        "  train_ds,\n",
        "  validation_data=val_ds,\n",
        "  epochs=100\n",
        ")"
      ],
      "metadata": {
        "colab": {
          "base_uri": "https://localhost:8080/"
        },
        "id": "DLUWVi5oP1N-",
        "outputId": "9ea3d35d-dd8f-4ecf-8dce-688dd9ea4c11"
      },
      "execution_count": 21,
      "outputs": [
        {
          "output_type": "stream",
          "name": "stdout",
          "text": [
            "Epoch 1/100\n",
            "718/718 [==============================] - 89s 121ms/step - loss: 1.8128 - accuracy: 0.2537 - val_loss: 1.7381 - val_accuracy: 0.2790\n",
            "Epoch 2/100\n",
            "718/718 [==============================] - 88s 123ms/step - loss: 1.7099 - accuracy: 0.3055 - val_loss: 1.6253 - val_accuracy: 0.3466\n",
            "Epoch 3/100\n",
            "718/718 [==============================] - 88s 123ms/step - loss: 1.6231 - accuracy: 0.3567 - val_loss: 1.5457 - val_accuracy: 0.3912\n",
            "Epoch 4/100\n",
            "718/718 [==============================] - 88s 122ms/step - loss: 1.5715 - accuracy: 0.3863 - val_loss: 1.5289 - val_accuracy: 0.3928\n",
            "Epoch 5/100\n",
            "718/718 [==============================] - 87s 122ms/step - loss: 1.5234 - accuracy: 0.4088 - val_loss: 1.4365 - val_accuracy: 0.4471\n",
            "Epoch 6/100\n",
            "718/718 [==============================] - 88s 123ms/step - loss: 1.4813 - accuracy: 0.4268 - val_loss: 1.3873 - val_accuracy: 0.4673\n",
            "Epoch 7/100\n",
            "718/718 [==============================] - 88s 122ms/step - loss: 1.4430 - accuracy: 0.4404 - val_loss: 1.3577 - val_accuracy: 0.4696\n",
            "Epoch 8/100\n",
            "718/718 [==============================] - 88s 122ms/step - loss: 1.4099 - accuracy: 0.4523 - val_loss: 1.3284 - val_accuracy: 0.4922\n",
            "Epoch 9/100\n",
            "718/718 [==============================] - 88s 123ms/step - loss: 1.3927 - accuracy: 0.4629 - val_loss: 1.3031 - val_accuracy: 0.4983\n",
            "Epoch 10/100\n",
            "718/718 [==============================] - 88s 123ms/step - loss: 1.3740 - accuracy: 0.4736 - val_loss: 1.3014 - val_accuracy: 0.5107\n",
            "Epoch 11/100\n",
            "718/718 [==============================] - 90s 125ms/step - loss: 1.3516 - accuracy: 0.4811 - val_loss: 1.2725 - val_accuracy: 0.5105\n",
            "Epoch 12/100\n",
            "718/718 [==============================] - 88s 123ms/step - loss: 1.3358 - accuracy: 0.4858 - val_loss: 1.2584 - val_accuracy: 0.5201\n",
            "Epoch 13/100\n",
            "718/718 [==============================] - 91s 126ms/step - loss: 1.3111 - accuracy: 0.4968 - val_loss: 1.2519 - val_accuracy: 0.5215\n",
            "Epoch 14/100\n",
            "718/718 [==============================] - 91s 126ms/step - loss: 1.2999 - accuracy: 0.5014 - val_loss: 1.2472 - val_accuracy: 0.5309\n",
            "Epoch 15/100\n",
            "718/718 [==============================] - 91s 127ms/step - loss: 1.2865 - accuracy: 0.5084 - val_loss: 1.2315 - val_accuracy: 0.5269\n",
            "Epoch 16/100\n",
            "718/718 [==============================] - 90s 126ms/step - loss: 1.2736 - accuracy: 0.5165 - val_loss: 1.2122 - val_accuracy: 0.5428\n",
            "Epoch 17/100\n",
            "718/718 [==============================] - 96s 133ms/step - loss: 1.2648 - accuracy: 0.5132 - val_loss: 1.2359 - val_accuracy: 0.5278\n",
            "Epoch 18/100\n",
            "718/718 [==============================] - 87s 121ms/step - loss: 1.2484 - accuracy: 0.5251 - val_loss: 1.2194 - val_accuracy: 0.5374\n",
            "Epoch 19/100\n",
            "718/718 [==============================] - 83s 115ms/step - loss: 1.2456 - accuracy: 0.5256 - val_loss: 1.2140 - val_accuracy: 0.5361\n",
            "Epoch 20/100\n",
            "718/718 [==============================] - 82s 114ms/step - loss: 1.2255 - accuracy: 0.5315 - val_loss: 1.2170 - val_accuracy: 0.5384\n",
            "Epoch 21/100\n",
            "718/718 [==============================] - 82s 115ms/step - loss: 1.2151 - accuracy: 0.5367 - val_loss: 1.2011 - val_accuracy: 0.5476\n",
            "Epoch 22/100\n",
            "718/718 [==============================] - 82s 115ms/step - loss: 1.1971 - accuracy: 0.5450 - val_loss: 1.1999 - val_accuracy: 0.5445\n",
            "Epoch 23/100\n",
            "718/718 [==============================] - 83s 115ms/step - loss: 1.1973 - accuracy: 0.5402 - val_loss: 1.1883 - val_accuracy: 0.5509\n",
            "Epoch 24/100\n",
            "718/718 [==============================] - 83s 115ms/step - loss: 1.1898 - accuracy: 0.5484 - val_loss: 1.1943 - val_accuracy: 0.5482\n",
            "Epoch 25/100\n",
            "718/718 [==============================] - 82s 115ms/step - loss: 1.1722 - accuracy: 0.5534 - val_loss: 1.1809 - val_accuracy: 0.5490\n",
            "Epoch 26/100\n",
            "718/718 [==============================] - 83s 115ms/step - loss: 1.1706 - accuracy: 0.5565 - val_loss: 1.1808 - val_accuracy: 0.5652\n",
            "Epoch 27/100\n",
            "718/718 [==============================] - 82s 114ms/step - loss: 1.1522 - accuracy: 0.5646 - val_loss: 1.1825 - val_accuracy: 0.5572\n",
            "Epoch 28/100\n",
            "718/718 [==============================] - 83s 115ms/step - loss: 1.1522 - accuracy: 0.5648 - val_loss: 1.1743 - val_accuracy: 0.5665\n",
            "Epoch 29/100\n",
            "718/718 [==============================] - 82s 114ms/step - loss: 1.1458 - accuracy: 0.5680 - val_loss: 1.1821 - val_accuracy: 0.5624\n",
            "Epoch 30/100\n",
            "718/718 [==============================] - 82s 114ms/step - loss: 1.1236 - accuracy: 0.5736 - val_loss: 1.1639 - val_accuracy: 0.5685\n",
            "Epoch 31/100\n",
            "718/718 [==============================] - 82s 115ms/step - loss: 1.1253 - accuracy: 0.5736 - val_loss: 1.1777 - val_accuracy: 0.5651\n",
            "Epoch 32/100\n",
            "718/718 [==============================] - 84s 117ms/step - loss: 1.1198 - accuracy: 0.5785 - val_loss: 1.1679 - val_accuracy: 0.5616\n",
            "Epoch 33/100\n",
            "718/718 [==============================] - 82s 114ms/step - loss: 1.0991 - accuracy: 0.5876 - val_loss: 1.1623 - val_accuracy: 0.5670\n",
            "Epoch 34/100\n",
            "718/718 [==============================] - 83s 115ms/step - loss: 1.0926 - accuracy: 0.5895 - val_loss: 1.1671 - val_accuracy: 0.5670\n",
            "Epoch 35/100\n",
            "718/718 [==============================] - 83s 115ms/step - loss: 1.0878 - accuracy: 0.5923 - val_loss: 1.1674 - val_accuracy: 0.5677\n",
            "Epoch 36/100\n",
            "718/718 [==============================] - 83s 116ms/step - loss: 1.0804 - accuracy: 0.5910 - val_loss: 1.1609 - val_accuracy: 0.5658\n",
            "Epoch 37/100\n",
            "718/718 [==============================] - 83s 115ms/step - loss: 1.0709 - accuracy: 0.5994 - val_loss: 1.1664 - val_accuracy: 0.5678\n",
            "Epoch 38/100\n",
            "718/718 [==============================] - 83s 115ms/step - loss: 1.0583 - accuracy: 0.6066 - val_loss: 1.1646 - val_accuracy: 0.5732\n",
            "Epoch 39/100\n",
            "718/718 [==============================] - 82s 114ms/step - loss: 1.0623 - accuracy: 0.6042 - val_loss: 1.1686 - val_accuracy: 0.5717\n",
            "Epoch 40/100\n",
            "718/718 [==============================] - 82s 115ms/step - loss: 1.0384 - accuracy: 0.6114 - val_loss: 1.1453 - val_accuracy: 0.5792\n",
            "Epoch 41/100\n",
            "718/718 [==============================] - 83s 115ms/step - loss: 1.0399 - accuracy: 0.6081 - val_loss: 1.1548 - val_accuracy: 0.5736\n",
            "Epoch 42/100\n",
            "718/718 [==============================] - 82s 115ms/step - loss: 1.0223 - accuracy: 0.6197 - val_loss: 1.1666 - val_accuracy: 0.5628\n",
            "Epoch 43/100\n",
            "718/718 [==============================] - 82s 115ms/step - loss: 1.0142 - accuracy: 0.6178 - val_loss: 1.1633 - val_accuracy: 0.5732\n",
            "Epoch 44/100\n",
            "718/718 [==============================] - 83s 115ms/step - loss: 1.0093 - accuracy: 0.6222 - val_loss: 1.1500 - val_accuracy: 0.5766\n",
            "Epoch 45/100\n",
            "718/718 [==============================] - 83s 116ms/step - loss: 1.0168 - accuracy: 0.6234 - val_loss: 1.1598 - val_accuracy: 0.5680\n",
            "Epoch 46/100\n",
            "718/718 [==============================] - 82s 115ms/step - loss: 1.0061 - accuracy: 0.6218 - val_loss: 1.1478 - val_accuracy: 0.5849\n",
            "Epoch 47/100\n",
            "718/718 [==============================] - 83s 116ms/step - loss: 0.9913 - accuracy: 0.6302 - val_loss: 1.1578 - val_accuracy: 0.5713\n",
            "Epoch 48/100\n",
            "718/718 [==============================] - 82s 115ms/step - loss: 0.9880 - accuracy: 0.6326 - val_loss: 1.1667 - val_accuracy: 0.5670\n",
            "Epoch 49/100\n",
            "718/718 [==============================] - 83s 115ms/step - loss: 0.9837 - accuracy: 0.6357 - val_loss: 1.1502 - val_accuracy: 0.5786\n",
            "Epoch 50/100\n",
            "718/718 [==============================] - 83s 115ms/step - loss: 0.9734 - accuracy: 0.6372 - val_loss: 1.1469 - val_accuracy: 0.5769\n",
            "Epoch 51/100\n",
            "718/718 [==============================] - 83s 115ms/step - loss: 0.9711 - accuracy: 0.6387 - val_loss: 1.1630 - val_accuracy: 0.5720\n",
            "Epoch 52/100\n",
            "718/718 [==============================] - 83s 115ms/step - loss: 0.9545 - accuracy: 0.6460 - val_loss: 1.1493 - val_accuracy: 0.5820\n",
            "Epoch 53/100\n",
            "718/718 [==============================] - 83s 115ms/step - loss: 0.9528 - accuracy: 0.6460 - val_loss: 1.1543 - val_accuracy: 0.5788\n",
            "Epoch 54/100\n",
            "718/718 [==============================] - 83s 115ms/step - loss: 0.9478 - accuracy: 0.6528 - val_loss: 1.1514 - val_accuracy: 0.5806\n",
            "Epoch 55/100\n",
            "718/718 [==============================] - 83s 115ms/step - loss: 0.9360 - accuracy: 0.6539 - val_loss: 1.1600 - val_accuracy: 0.5732\n",
            "Epoch 56/100\n",
            "718/718 [==============================] - 83s 116ms/step - loss: 0.9354 - accuracy: 0.6536 - val_loss: 1.1535 - val_accuracy: 0.5795\n",
            "Epoch 57/100\n",
            "718/718 [==============================] - 83s 116ms/step - loss: 0.9087 - accuracy: 0.6636 - val_loss: 1.1597 - val_accuracy: 0.5842\n",
            "Epoch 58/100\n",
            "718/718 [==============================] - 83s 116ms/step - loss: 0.9155 - accuracy: 0.6651 - val_loss: 1.1463 - val_accuracy: 0.5818\n",
            "Epoch 59/100\n",
            "718/718 [==============================] - 83s 116ms/step - loss: 0.9154 - accuracy: 0.6678 - val_loss: 1.1609 - val_accuracy: 0.5769\n",
            "Epoch 60/100\n",
            "718/718 [==============================] - 83s 115ms/step - loss: 0.9005 - accuracy: 0.6662 - val_loss: 1.1543 - val_accuracy: 0.5781\n",
            "Epoch 61/100\n",
            "718/718 [==============================] - 83s 115ms/step - loss: 0.8956 - accuracy: 0.6675 - val_loss: 1.1565 - val_accuracy: 0.5795\n",
            "Epoch 62/100\n",
            "718/718 [==============================] - 83s 116ms/step - loss: 0.8991 - accuracy: 0.6732 - val_loss: 1.1596 - val_accuracy: 0.5755\n",
            "Epoch 63/100\n",
            "718/718 [==============================] - 82s 115ms/step - loss: 0.8864 - accuracy: 0.6762 - val_loss: 1.1647 - val_accuracy: 0.5722\n",
            "Epoch 64/100\n",
            "718/718 [==============================] - 82s 115ms/step - loss: 0.8751 - accuracy: 0.6807 - val_loss: 1.1466 - val_accuracy: 0.5807\n",
            "Epoch 65/100\n",
            "718/718 [==============================] - 82s 114ms/step - loss: 0.8686 - accuracy: 0.6772 - val_loss: 1.1409 - val_accuracy: 0.5879\n",
            "Epoch 66/100\n",
            "718/718 [==============================] - 83s 115ms/step - loss: 0.8721 - accuracy: 0.6877 - val_loss: 1.1474 - val_accuracy: 0.5833\n",
            "Epoch 67/100\n",
            "718/718 [==============================] - 82s 114ms/step - loss: 0.8698 - accuracy: 0.6856 - val_loss: 1.1537 - val_accuracy: 0.5867\n",
            "Epoch 68/100\n",
            "718/718 [==============================] - 82s 114ms/step - loss: 0.8486 - accuracy: 0.6938 - val_loss: 1.1495 - val_accuracy: 0.5835\n",
            "Epoch 69/100\n",
            "718/718 [==============================] - 82s 114ms/step - loss: 0.8646 - accuracy: 0.6868 - val_loss: 1.1675 - val_accuracy: 0.5753\n",
            "Epoch 70/100\n",
            "718/718 [==============================] - 82s 114ms/step - loss: 0.8444 - accuracy: 0.6935 - val_loss: 1.1462 - val_accuracy: 0.5856\n",
            "Epoch 71/100\n",
            "718/718 [==============================] - 82s 115ms/step - loss: 0.8307 - accuracy: 0.7015 - val_loss: 1.1806 - val_accuracy: 0.5699\n",
            "Epoch 72/100\n",
            "718/718 [==============================] - 83s 115ms/step - loss: 0.8358 - accuracy: 0.6974 - val_loss: 1.1703 - val_accuracy: 0.5757\n",
            "Epoch 73/100\n",
            "718/718 [==============================] - 82s 115ms/step - loss: 0.8149 - accuracy: 0.7047 - val_loss: 1.1799 - val_accuracy: 0.5837\n",
            "Epoch 74/100\n",
            "718/718 [==============================] - 82s 115ms/step - loss: 0.8333 - accuracy: 0.6986 - val_loss: 1.1601 - val_accuracy: 0.5757\n",
            "Epoch 75/100\n",
            "718/718 [==============================] - 83s 116ms/step - loss: 0.8129 - accuracy: 0.7085 - val_loss: 1.1701 - val_accuracy: 0.5778\n",
            "Epoch 76/100\n",
            "718/718 [==============================] - 83s 116ms/step - loss: 0.8101 - accuracy: 0.7080 - val_loss: 1.1724 - val_accuracy: 0.5793\n",
            "Epoch 77/100\n",
            "718/718 [==============================] - 82s 115ms/step - loss: 0.8078 - accuracy: 0.7113 - val_loss: 1.1809 - val_accuracy: 0.5757\n",
            "Epoch 78/100\n",
            "718/718 [==============================] - 83s 115ms/step - loss: 0.7986 - accuracy: 0.7166 - val_loss: 1.1777 - val_accuracy: 0.5722\n",
            "Epoch 79/100\n",
            "718/718 [==============================] - 83s 116ms/step - loss: 0.7892 - accuracy: 0.7178 - val_loss: 1.1645 - val_accuracy: 0.5809\n",
            "Epoch 80/100\n",
            "718/718 [==============================] - 84s 118ms/step - loss: 0.7935 - accuracy: 0.7157 - val_loss: 1.1651 - val_accuracy: 0.5769\n",
            "Epoch 81/100\n",
            "718/718 [==============================] - 86s 120ms/step - loss: 0.7802 - accuracy: 0.7176 - val_loss: 1.1688 - val_accuracy: 0.5806\n",
            "Epoch 82/100\n",
            "718/718 [==============================] - 100s 139ms/step - loss: 0.7792 - accuracy: 0.7197 - val_loss: 1.1704 - val_accuracy: 0.5856\n",
            "Epoch 83/100\n",
            "718/718 [==============================] - 103s 143ms/step - loss: 0.7911 - accuracy: 0.7134 - val_loss: 1.1654 - val_accuracy: 0.5813\n",
            "Epoch 84/100\n",
            "718/718 [==============================] - 99s 138ms/step - loss: 0.7775 - accuracy: 0.7232 - val_loss: 1.1784 - val_accuracy: 0.5797\n",
            "Epoch 85/100\n",
            "718/718 [==============================] - 85s 118ms/step - loss: 0.7642 - accuracy: 0.7204 - val_loss: 1.1628 - val_accuracy: 0.5797\n",
            "Epoch 86/100\n",
            "718/718 [==============================] - 83s 116ms/step - loss: 0.7615 - accuracy: 0.7259 - val_loss: 1.2018 - val_accuracy: 0.5696\n",
            "Epoch 87/100\n",
            "718/718 [==============================] - 84s 117ms/step - loss: 0.7657 - accuracy: 0.7268 - val_loss: 1.1792 - val_accuracy: 0.5809\n",
            "Epoch 88/100\n",
            "718/718 [==============================] - 83s 116ms/step - loss: 0.7573 - accuracy: 0.7334 - val_loss: 1.1744 - val_accuracy: 0.5800\n",
            "Epoch 89/100\n",
            "718/718 [==============================] - 83s 116ms/step - loss: 0.7574 - accuracy: 0.7294 - val_loss: 1.1898 - val_accuracy: 0.5710\n",
            "Epoch 90/100\n",
            "718/718 [==============================] - 84s 117ms/step - loss: 0.7417 - accuracy: 0.7349 - val_loss: 1.1874 - val_accuracy: 0.5788\n",
            "Epoch 91/100\n",
            "718/718 [==============================] - 84s 117ms/step - loss: 0.7458 - accuracy: 0.7348 - val_loss: 1.1649 - val_accuracy: 0.5818\n",
            "Epoch 92/100\n",
            "718/718 [==============================] - 85s 118ms/step - loss: 0.7525 - accuracy: 0.7332 - val_loss: 1.1746 - val_accuracy: 0.5811\n",
            "Epoch 93/100\n",
            "718/718 [==============================] - 85s 118ms/step - loss: 0.7265 - accuracy: 0.7404 - val_loss: 1.1923 - val_accuracy: 0.5753\n",
            "Epoch 94/100\n",
            "718/718 [==============================] - 86s 120ms/step - loss: 0.7230 - accuracy: 0.7429 - val_loss: 1.1753 - val_accuracy: 0.5785\n",
            "Epoch 95/100\n",
            "718/718 [==============================] - 85s 118ms/step - loss: 0.7346 - accuracy: 0.7406 - val_loss: 1.1703 - val_accuracy: 0.5856\n",
            "Epoch 96/100\n",
            "718/718 [==============================] - 85s 118ms/step - loss: 0.7215 - accuracy: 0.7429 - val_loss: 1.1942 - val_accuracy: 0.5722\n",
            "Epoch 97/100\n",
            "718/718 [==============================] - 85s 118ms/step - loss: 0.7163 - accuracy: 0.7470 - val_loss: 1.1921 - val_accuracy: 0.5724\n",
            "Epoch 98/100\n",
            "718/718 [==============================] - 85s 118ms/step - loss: 0.7111 - accuracy: 0.7508 - val_loss: 1.1988 - val_accuracy: 0.5767\n",
            "Epoch 99/100\n",
            "718/718 [==============================] - 85s 118ms/step - loss: 0.7159 - accuracy: 0.7464 - val_loss: 1.1902 - val_accuracy: 0.5790\n",
            "Epoch 100/100\n",
            "718/718 [==============================] - 85s 119ms/step - loss: 0.7128 - accuracy: 0.7482 - val_loss: 1.1821 - val_accuracy: 0.5783\n"
          ]
        },
        {
          "output_type": "execute_result",
          "data": {
            "text/plain": [
              "<keras.callbacks.History at 0x7fe31449f130>"
            ]
          },
          "metadata": {},
          "execution_count": 21
        }
      ]
    }
  ],
  "metadata": {
    "colab": {
      "provenance": [],
      "machine_shape": "hm",
      "mount_file_id": "1iTqFgXmC4lQfV921rb3OMzYMI1wIAZrM",
      "authorship_tag": "ABX9TyN9r7ExO2/Vts/kVsgiZNrF",
      "include_colab_link": true
    },
    "kernelspec": {
      "display_name": "Python 3",
      "name": "python3"
    },
    "language_info": {
      "name": "python"
    },
    "accelerator": "TPU"
  },
  "nbformat": 4,
  "nbformat_minor": 0
}