{
  "nbformat": 4,
  "nbformat_minor": 0,
  "metadata": {
    "colab": {
      "provenance": [],
      "mount_file_id": "1iTqFgXmC4lQfV921rb3OMzYMI1wIAZrM",
      "authorship_tag": "ABX9TyPYhpO87zKzAqlhGVUGNcWj",
      "include_colab_link": true
    },
    "kernelspec": {
      "name": "python3",
      "display_name": "Python 3"
    },
    "language_info": {
      "name": "python"
    }
  },
  "cells": [
    {
      "cell_type": "markdown",
      "metadata": {
        "id": "view-in-github",
        "colab_type": "text"
      },
      "source": [
        "<a href=\"https://colab.research.google.com/github/dimitrivlachos/Proto-OS/blob/main/Facial_Expression_CNN.ipynb\" target=\"_parent\"><img src=\"https://colab.research.google.com/assets/colab-badge.svg\" alt=\"Open In Colab\"/></a>"
      ]
    },
    {
      "cell_type": "markdown",
      "source": [
        "Here we mount the drive and get the basic libraries necessary for machine learning"
      ],
      "metadata": {
        "id": "9ECCIzUo0XzW"
      }
    },
    {
      "cell_type": "code",
      "execution_count": 10,
      "metadata": {
        "id": "uI8HnybqaaRX",
        "colab": {
          "base_uri": "https://localhost:8080/"
        },
        "outputId": "8db792ed-72a9-42ec-b5c7-7c947a4b00c8"
      },
      "outputs": [
        {
          "output_type": "stream",
          "name": "stdout",
          "text": [
            "Drive already mounted at /content/drive; to attempt to forcibly remount, call drive.mount(\"/content/drive\", force_remount=True).\n",
            "tf version: 2.12.0\n"
          ]
        }
      ],
      "source": [
        "from google.colab import drive\n",
        "drive.mount('/content/drive')\n",
        "\n",
        "import numpy as np\n",
        "import os\n",
        "import PIL\n",
        "import PIL.Image\n",
        "import tensorflow as tf\n",
        "import tensorflow_datasets as tfds\n",
        "\n",
        "print(\"tf version:\", tf.__version__)"
      ]
    },
    {
      "cell_type": "markdown",
      "source": [
        "Next we load up our dataset. This data was gotten from kaggle: https://www.kaggle.com/datasets/aadityasinghal/facial-expression-dataset"
      ],
      "metadata": {
        "id": "43V0zpoh0hQi"
      }
    },
    {
      "cell_type": "code",
      "source": [
        "import pathlib\n",
        "\n",
        "TRAIN_DIR = 'drive/MyDrive/FacialAnalysisData/train'\n",
        "TEST_DIR = 'drive/MyDrive/FacialAnalysisData/test'\n",
        "\n",
        "TRAIN_PATH = pathlib.Path(TRAIN_DIR)\n",
        "TEST_PATH = pathlib.Path(TEST_DIR)"
      ],
      "metadata": {
        "id": "NzCWRiHOrUfM"
      },
      "execution_count": 11,
      "outputs": []
    },
    {
      "cell_type": "code",
      "source": [
        "image_count = len(list(TRAIN_PATH.glob('*/*.jpg')))\n",
        "image_count"
      ],
      "metadata": {
        "colab": {
          "base_uri": "https://localhost:8080/"
        },
        "id": "o3rdtjqUy7yw",
        "outputId": "50dc631b-188c-4180-f9cf-5f27bfa389e3"
      },
      "execution_count": 12,
      "outputs": [
        {
          "output_type": "execute_result",
          "data": {
            "text/plain": [
              "28709"
            ]
          },
          "metadata": {},
          "execution_count": 12
        }
      ]
    }
  ]
}